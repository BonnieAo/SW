{
  "nbformat": 4,
  "nbformat_minor": 0,
  "metadata": {
    "colab": {
      "name": "Sandwich Game Simulation.ipynb",
      "provenance": []
    },
    "kernelspec": {
      "name": "python3",
      "display_name": "Python 3"
    },
    "language_info": {
      "name": "python"
    }
  },
  "cells": [
    {
      "cell_type": "code",
      "execution_count": 2,
      "metadata": {
        "id": "dWJlJOkKLbSt"
      },
      "outputs": [],
      "source": [
        "import pandas as pd\n",
        "import numpy as np"
      ]
    },
    {
      "cell_type": "code",
      "source": [
        "#Sandwich Game\n",
        "'''\n",
        "input:\n",
        "s: sllipage tolerance\n",
        "f: transaction fee, 0<=f<1\n",
        "b: base fee per transaction\n",
        "X0_reserve: token X reserved in the liquidity pool at time t0\n",
        "y0_reserve: token Y reserved in the liquidity pool at time t0\n",
        "X_paid > 0: tokens 𝑋 entering the mempool at time t0;\n",
        "X_a >0: token X charged when predatory bot first executes a transaction TA1\n",
        "\n",
        "output:\n",
        "P_a: bot profits\n",
        "'''\n",
        "\n",
        "def sandwich_game(s,f,b,x0_reserve,y0_reserve,X_paid,X_a):\n",
        "    \n",
        "    #tokens Y received at time t0\n",
        "    Y0_receive = (y0_reserve*(1-f)*X_paid)/(x0_reserve+(1-f)*X_paid)\n",
        "    \n",
        "    #Sandwich attack occurs\n",
        "    \n",
        "    #predatory bot transaction TA1\n",
        "    Y_a1 = (y0_reserve*(1-f)*X_a)/(x0_reserve+(1-f)*X_a)\n",
        "    \n",
        "    #victim transaction at time t1\n",
        "    x1_reserve = x0_reserve+X_a\n",
        "    y1_reserve = (x0_reserve*y0_reserve)/(x0_reserve+(1-f)*X_a)\n",
        "    Victim_receive = (y1_reserve*(1-f)*X_paid)/(x1_reserve+(1-f)*X_paid)\n",
        "    \n",
        "    if Victim_receive >= (1-s)*Y0_receive:\n",
        "        \n",
        "        #predatory bot exchange TA2 at time t2\n",
        "        x2_reserve = x0_reserve+X_paid+X_a\n",
        "        y2_reserve = (x1_reserve*y1_reserve)/(x1_reserve+(1-f)*X_paid)\n",
        "        Bot_receive = (y2_reserve*(1-f)*Y_a1)/(x1_reserve+(1-f)*Y_a1)\n",
        "    \n",
        "        #Bot profits\n",
        "        P_a = Bot_receive-X_a-2*b\n",
        "        return P_a\n",
        "    else:\n",
        "        return \"victim transaction not executed\"\n",
        "    \n",
        "    "
      ],
      "metadata": {
        "id": "mvVNzRRMLcAm"
      },
      "execution_count": 3,
      "outputs": []
    },
    {
      "cell_type": "code",
      "source": [
        "#Adversary Perspective\n",
        "#Optimal strategy for a predatory bot \n",
        "#Finding the optimal attack input X_a that maximizing P_a\n",
        "'''\n",
        "input:\n",
        "s: sllipage tolerance\n",
        "f: transaction fee, 0<=f<1\n",
        "b: base fee per transaction\n",
        "X0_reserve: token X reserved in the liquidity pool at time t0\n",
        "y0_reserve: token Y reserved in the liquidity pool at time t0\n",
        "X_paid > 0: tokens 𝑋 entering the mempool at time t0;\n",
        "\n",
        "output:\n",
        "X_a: optimal attack input for bots\n",
        "'''\n",
        "\n",
        "def predatory_bot(s,f,b,x0_reserve,y0_reserve,X_paid):\n",
        "    \n",
        "    #lemma 1: no slippage tolerance, s=1\n",
        "    Xa_o = ((X_paid*((1-f)**2)*x0_reserve)-f*(x0_reserve**2)*(2-f))/((2-f)*f*x0_reserve-X_paid*f*((1-f)**2))\n",
        "    +((X_paid**2)*((1-f)**3)*x0_reserve*(x0_reserve-((1-f)**2)*f*(x0_reserve+X_paid)))**(1/2)/((2-f)*f*x0_reserve-X_paid*f*((1-f)**2))\n",
        "    \n",
        "    #lemma 2: with silippage tolerance\n",
        "    n = ((1-f)**2)*(1-s)*(1-s)*((1-f)**4)*(X_paid**2)\n",
        "    +2*X_paid*((1-f)**2)*x0_reserve*(2-f*(1-s))\n",
        "    +(4-f*(4-f*(1-s)))*x0_reserve**2\n",
        "    \n",
        "    Xa_s = (n/(1-s) - X_paid*(1-f)**3-(2-f)*(1-f)*x0_reserve)/(2*(1-f)**2)\n",
        "    \n",
        "    X_a = min(Xa_o,Xa_s)\n",
        "    \n",
        "    return X_a\n",
        "    \n",
        "    "
      ],
      "metadata": {
        "id": "-nq-fP32Ld4W"
      },
      "execution_count": 4,
      "outputs": []
    },
    {
      "cell_type": "code",
      "source": [
        "X_paid = 50000\n",
        "X_a = predatory_bot(0.01,0.003,0,5000000,0,X_paid)\n",
        "P = sandwich_game(0.01,0.003, 0, 5000000,0,X_paid,X_a)"
      ],
      "metadata": {
        "id": "53q4oIIb6WEw"
      },
      "execution_count": 15,
      "outputs": []
    },
    {
      "cell_type": "code",
      "source": [
        "P"
      ],
      "metadata": {
        "colab": {
          "base_uri": "https://localhost:8080/"
        },
        "id": "2IAk3e6H70eu",
        "outputId": "80bed7a5-83eb-46e5-cdfa-5ca3df6b2557"
      },
      "execution_count": 16,
      "outputs": [
        {
          "output_type": "execute_result",
          "data": {
            "text/plain": [
              "-3312339.317774605"
            ]
          },
          "metadata": {},
          "execution_count": 16
        }
      ]
    },
    {
      "cell_type": "code",
      "source": [
        "#Trader perspective\n",
        "#Minimizing victim's expected cost\n",
        "#Finding the optimal slippage tolerance\n",
        "'''\n",
        "input:\n",
        "f: transaction fee, 0<=f<1\n",
        "b: base fee per transaction\n",
        "X0_reserve: token X reserved in the liquidity pool at time t0\n",
        "y0_reserve: token Y reserved in the liquidity pool at time t0\n",
        "X_paid > 0: tokens 𝑋 entering the mempool at time t0;\n",
        "\n",
        "output:\n",
        "s: optimal slippage tolerance\n",
        "'''\n",
        "def slippage(f,b,x0_reserve,y0_reserve,X_paid):\n",
        "    \n",
        "    #Calculate s_a\n",
        "    Y0_receive = (y0_reserve*(1-f)*X_paid)/(x0_reserve+(1-f)*X_paid)\n",
        "    s_a = (2*b)/Y0_receive\n",
        "    \n",
        "    #Calculate s_r\n",
        "    \n",
        "    # cost of redoing the transaction\n",
        "    l = 0.25 #the portion of the base fee used for a failed transaction\n",
        "    m = 0.125 #the potential increase of the base fee in the next block\n",
        "    c = b*(l+m)\n",
        "    \n",
        "    # expected cost of the associated price shift in the pool\n",
        "    E = *** #calculated with the specific liquidity distribution\n",
        "    \n",
        "    # Probability of the transaction failing \n",
        "    p = *** #estimated by looking at the recent history of the pool\n",
        "    \n",
        "    s_r = ((p)/(1-p))*(c/Y0_receive+E)\n",
        "    \n",
        "    s = max(s_a,s_r)\n",
        "    \n",
        "    return s"
      ],
      "metadata": {
        "id": "aWWpwjP2Lg7n"
      },
      "execution_count": null,
      "outputs": []
    },
    {
      "cell_type": "code",
      "source": [
        "#Section 5.2: calculated with the specific liquidity distribution.\n",
        "def expected_cost():\n",
        "    \n",
        "    return E"
      ],
      "metadata": {
        "id": "I_HnJpZlLl16"
      },
      "execution_count": null,
      "outputs": []
    },
    {
      "cell_type": "code",
      "source": [
        "# Estimate the Probability of the trasaction failing \n",
        "def probability_fail():\n",
        "    \n",
        "    return p"
      ],
      "metadata": {
        "id": "sBdWIGbFLnnH"
      },
      "execution_count": null,
      "outputs": []
    }
  ]
}